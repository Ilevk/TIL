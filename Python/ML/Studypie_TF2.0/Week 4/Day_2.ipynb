{
 "cells": [
  {
   "cell_type": "markdown",
   "metadata": {},
   "source": [
    "# 4주차, 2일차 : ML Production 기초 이해하기 (총 17분)\n",
    "- ### Contents \n",
    "    1. Production ML Systems: https://developers.google.com/machine-learning/crash-course/production-ml-systems\n",
    "    2. Static vs. Dynamic Training: https://developers.google.com/machine-learning/crash-course/static-vs-dynamic-training/video-lecture\n",
    "    3. Static vs. Dynamic inference: https://developers.google.com/machine-learning/crash-course/static-vs-dynamic-inference/video-lecture"
   ]
  },
  {
   "cell_type": "markdown",
   "metadata": {},
   "source": [
    "## 1. Production ML Systems\n",
    "<img src=https://developers.google.com/machine-learning/crash-course/images/MlSystem.svg style='background-color:white'/>\n",
    "<b> Figure 1. 실제 프로덕션 ML 시스템 </b>\n",
    "\n",
    "\n",
    "ML 코드는 실제 ML 프로덕션 시스템의 중심에 있지만 일반적으로 전체 ML 프로덕션 시스템 코드의 5%만을 나타냅니다. <br>\n",
    "ML 프로덕션 시스템은 입력 데이터에 많은 리소스를 투입하여 데이터를 수집 및 확인하고 데이터에서 특성을 추출합니다.<br>\n",
    "또한, ML 모델의 예측을 실제로 사용하려면 서빙 인프라를 설치해야합니다.\n",
    "\n",
    "<br><br>\n",
    "\n",
    "### 시스템 레벨 구성 요소\n",
    "- 모든 구성요소를 직접 만들 필요는 없습니다.\n",
    "    - 가능하면 일반 ML 시스템 구성요소를 재사용하세요.\n",
    "    - Google Cloud ML 솔루션에는 Dataflow 및 TF 서빙이 포함됩니다.\n",
    "    - Spark, Hadoop 등 다른 플랫폼에서도 구성요소를 찾을 수 있습니다.\n",
    "    - 어떤 구성요소가 필요한지 어떻게 알 수 있나요?\n",
    "        - 몇 가지 ML 시스템 패러다임과 요구사항을 확인하세요.\n",
    "\n",
    "---"
   ]
  },
  {
   "cell_type": "markdown",
   "metadata": {},
   "source": [
    "## 2. Static vs. Dynamic Training\n",
    "### 1) 정적 모델\n",
    "- 오프라인으로 학습됩니다. 즉, 모델을 한 번만 학습시키고 해당 모델을 일정 기간 사용합니다.\n",
    "- 손쉬운 빌드 및 테스트 - batch 학습 및 테스트, 만족스러울 때까지 반복\n",
    "- 여전히 입력 모니터링이 필요\n",
    "- 노후화되기 쉬움\n",
    "- 데이터에 변화가 많지 않은 경우에 좋음\n",
    "\n",
    "### 2) 동적 모델\n",
    "- 온라인으로 학습됩니다. 즉, 데이터가 시스템에 계속 유입되며 지속적인 업데이트를 통해 해당 데이터를 모델에 통합합니다.\n",
    "- batch 학습 및 테스트가 아닌 점진적 검증 사용\n",
    "- 모니터링, 모델 롤백 및 데이터 격리 기능 필요\n",
    "- 변화에 적응 가능, 노후화 문제 방지\n",
    "- 데이터가 자주 변경되며 트렌드나 계절성이 있는 경우에 좋음\n",
    "\n",
    "---"
   ]
  },
  {
   "cell_type": "markdown",
   "metadata": {},
   "source": [
    "## 3. Static vs. Dynamic Inference\n",
    "### 1) 오프라인 추론\n",
    "- MapReduce 등을 사용하여 가능한 모든 예측을 일괄적으로 생성합니다.\n",
    "- 테이블에 기록한 후 캐시/조회 테이블에 입력합니다.\n",
    "\n",
    "#### 장점\n",
    "- 추론 비용을 크게 신경 쓸 필요가 없습니다.\n",
    "- batch quota나 대형 MapReduce를 사용할 수 있습니다.\n",
    "- 예측값을 푸시하기 전에 사후 검증이 가능합니다.\n",
    "#### 단점\n",
    "- 알고 있는 항목만 예측할 수 있으며 롱테일 분포에 적합하지 않습니다.\n",
    "- 업데이트 지연 시간이 몇 시간 내지 며칠이 걸릴 수 있습니다.\n",
    "\n",
    "### 2) 온라인 추론\n",
    "- 서버를 사용하여 요청 시 예측합니다.\n",
    "\n",
    "#### 장점\n",
    "- 새로 들어오는 항목을 바로 예측할 수 있으며 길게 늘어지는 분포에 적합합니다.\n",
    "#### 단점\n",
    "- 연산 리소스가 많이 소요되고(비용이 많이들 수 있음) 지연 시간에 민감하여 모델 복잡도가 제한될 수 있습니다.\n",
    "- 모니터링 요구사항이 더 많습니다."
   ]
  }
 ],
 "metadata": {
  "kernelspec": {
   "display_name": "Kyle",
   "language": "python",
   "name": "kyle"
  },
  "language_info": {
   "codemirror_mode": {
    "name": "ipython",
    "version": 3
   },
   "file_extension": ".py",
   "mimetype": "text/x-python",
   "name": "python",
   "nbconvert_exporter": "python",
   "pygments_lexer": "ipython3",
   "version": "3.6.8"
  }
 },
 "nbformat": 4,
 "nbformat_minor": 4
}
