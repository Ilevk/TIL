{
 "cells": [
  {
   "cell_type": "markdown",
   "metadata": {},
   "source": [
    "## 1주차, 1일차 : 주요 ML 용어 및 선형 회귀 이해하기 (총 38분)\n",
    "- ### Contents \n",
    "    1. ML-Intro : https://developers.google.com/machine-learning/crash-course/ml-intro\n",
    "    2. Framing, Key ML Terminology : https://developers.google.com/machine-learning/crash-course/framing/video-lecture\n",
    "    3. Descending-into-ML : https://developers.google.com/machine-learning/crash-course/descending-into-ml/video-lecture"
   ]
  },
  {
   "cell_type": "markdown",
   "metadata": {},
   "source": [
    "### 1. ML-Intro\n",
    "### 2. Framing : Key ML Terminology\n",
    "\n",
    "1. Labels(라벨) : 단순 선형 회귀 분석에서 `y`라고 부르는 예측할 변수를 말한다. 밀의 가격, 사진에서 뵈는 동물, 또는 오디오 클립의 의미 등이라고 이야기 함,\n",
    "\n",
    "2. Features(특성) : 단순 선형 회귀 분석에서 `x`라고 하는 입력 변수를 말한다. 간단한 머신러닝 프로젝트에서는 1개가 될 수도 있고, 복잡한 프로젝트에서는 수백만개가 될 수도 있다고 한다. 다음과 같이 표현하기도 한다.\n",
    "$$ x_1, x_2 ... x_N$$\n",
    "- 스팸 탐지 예제에서는 이메일의 단어, 보낸 사람의 주소, 메일이 보내진 시간, 특정한 문구 등이 있을 수 있다. \n",
    "\n",
    "3. Examples(예제.. 예시? 적절한 번역이 애매하다..) : 데이터의 특정한 인스턴스라고 한다. <bold>x</bold> 라고 함(bold체는 벡터를 의미한다.), 데이터 셋의 부분 집합으로 이해하는게 맞을 듯 하다.\n",
    "* Labeled Examples : 라벨링 된 Example은 모델의 학습에 사용하는 데이터이다. 스팸이다 혹은 스팸이 아니다 라고 명확하게 라벨되어 있다.\n",
    "* Unlabeled Examples : 라벨링 되지 않은 Example은 학습한 모델을 사용해 라벨을 예측하고자 하는 데이터이다. 아직 사람이 분류하지 않은 새로운 이메일을 의미한다.\n",
    "\n",
    "4. Models(모델) : "
   ]
  },
  {
   "cell_type": "code",
   "execution_count": null,
   "metadata": {},
   "outputs": [],
   "source": []
  }
 ],
 "metadata": {
  "kernelspec": {
   "display_name": "Kyle",
   "language": "python",
   "name": "kyle"
  },
  "language_info": {
   "codemirror_mode": {
    "name": "ipython",
    "version": 3
   },
   "file_extension": ".py",
   "mimetype": "text/x-python",
   "name": "python",
   "nbconvert_exporter": "python",
   "pygments_lexer": "ipython3",
   "version": "3.6.8"
  }
 },
 "nbformat": 4,
 "nbformat_minor": 4
}
