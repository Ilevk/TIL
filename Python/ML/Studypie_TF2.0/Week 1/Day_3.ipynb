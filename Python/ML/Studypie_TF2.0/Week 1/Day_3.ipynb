{
 "cells": [
  {
   "cell_type": "markdown",
   "metadata": {},
   "source": [
    "# 1주차, 3일차 : TF 처음으로 사용해보기 (총 60분)\n",
    "\n",
    "- ### Contents \n",
    "    1. First Steps with TF : https://developers.google.com/machine-learning/crash-course/first-steps-with-tensorflow/video-lecture"
   ]
  },
  {
   "cell_type": "markdown",
   "metadata": {},
   "source": [
    "## 1. First Steps with TF : Toolkit\n",
    "<img src=https://developers.google.com/machine-learning/crash-course/images/TFHierarchy.svg />\n",
    "<b> Figure 1. 텐서플로우 도구의 계층 구조 </b>\n",
    "\n",
    "- 각 계층의 목적들을 정리해놓은 테이블\n",
    "    * Estimator(tf.estimator) : High-level, OOP API\n",
    "    * tf.layers / tf.losses / tf.metrics : 일반적인 모델의 구성요소 라이브러리\n",
    "    * Tensorflow : Lower-level APIs\n",
    "    \n",
    "- Tensorflow는 다음 두 요소로 구성됨\n",
    "    * 그래프 프로토콜 버퍼\n",
    "    * 분산된 그래프를 실행하는 런타임\n",
    "- 두 구성요소는 자바 컴파일러 및 JVM과 유사하다. \n",
    "- 가능하면 최고 수준의 추상화(유연함은 떨어진다)를 사용하여 문제를 해결하고, 특별한 문제를 해결하기 위해서 추가적인 유연함(모델 구성에 대해)이 필요하면 한 수준 아래로 이동한다. \n",
    "\n",
    "### tf.estimator API\n",
    "- 이번 머신러닝 코스에서는 주로 tf.estimator를 사용할 예정이다. 물론 더 낮은 수준의 Tensorflow를 사용할 수도 있지만, tf.estimator를 사용하는건 극적으로 코드 길이를 줄여줄 수 있다.\n",
    "- tf.estimator는 Scikit-Learn API와 호환 된다. \n",
    "\n",
    "---"
   ]
  },
  {
   "cell_type": "markdown",
   "metadata": {},
   "source": [
    "## 2. First Steps with TF : Programming Exercises\n",
    "\n"
   ]
  }
 ],
 "metadata": {
  "kernelspec": {
   "display_name": "Kyle",
   "language": "python",
   "name": "kyle"
  },
  "language_info": {
   "codemirror_mode": {
    "name": "ipython",
    "version": 3
   },
   "file_extension": ".py",
   "mimetype": "text/x-python",
   "name": "python",
   "nbconvert_exporter": "python",
   "pygments_lexer": "ipython3",
   "version": "3.6.8"
  }
 },
 "nbformat": 4,
 "nbformat_minor": 4
}
