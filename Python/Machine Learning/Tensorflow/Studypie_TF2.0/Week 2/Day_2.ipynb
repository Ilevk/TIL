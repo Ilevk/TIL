{
 "cells": [
  {
   "cell_type": "markdown",
   "metadata": {},
   "source": [
    "# 2주차, 2일차 : 특성 교차 이해하기 (총 70분)\n",
    "\n",
    "- ### Contents \n",
    "    1. Feature Crosses : https://developers.google.com/machine-learning/crash-course/feature-crosses/video-lecture"
   ]
  },
  {
   "cell_type": "markdown",
   "metadata": {},
   "source": [
    "## 1. Feature Crosses : Encoding Nonlinearity\n",
    "- 파란색 점은 병든 나무를 나타냅니다.\n",
    "- 주황색 점은 건강한 나무를 나타냅니다\n",
    "\n",
    "<img src=https://developers.google.com/machine-learning/crash-course/images/LinearProblem1.png />\n",
    "<b> Figure 1. 선형 문제</b>\n",
    "\n",
    "- 이러한 선형 문제에서는 병든 나무와 건강한 나무를 깔끔하게 직선으로 구분할 수 있습니다. 물론 병든 나무 한두 개가 '건강한'쪽에 있을 수도 있지만, 이 선을 기준으로 나무의 상태를 적절히 예측할 수 있습니다. \n",
    "\n",
    "- 다음 그림은 어떤가요?\n",
    "\n",
    "<img src=https://developers.google.com/machine-learning/crash-course/images/LinearProblem2.png />\n",
    "<b> Figure 2. 선형 문제</b>\n",
    "\n",
    "- 병든 나무와 건강한 나무를 깔끔하게 구분하는 선을 그릴 수 없습니다. 이 문제는 비선형 문제입니다. 어떤 선을 그려도 나무의 상태를 적절히 예측할 수 없습니다.\n",
    "\n",
    "<img src=https://developers.google.com/machine-learning/crash-course/images/LinearProblemNot.png />\n",
    "<b> Figure 3. 하나의 선으로 두 클래스를 구분할 수 없음 </b>\n",
    "\n",
    "- 그림 2에 표시된 비선형 문제를 해결하려면 특성 교차를 만들어야 합니다. `특성 교차`는 두 개 이상의 입력 특성을 곱하여 특성 공간에서 비선형성을 인코딩하는 합성 특성입니다. $x_1$과 $x_2$를 교차하여 $x_3$이라는 특성 교차를 만들어 보겠습니다.\n",
    "\n",
    "$$x_3=x_1x_2$$\n",
    "\n",
    "- 새로 만든 $x_3$ 특성 교차는 다른 특성과 동일하게 취급합니다.\n",
    "\n",
    "$$ y=b+w_1x_1+w_2x_2+w_3x_3 $$\n",
    "\n",
    "### 특성 교차의 종류\n",
    "- 여러 종류의 특성 교차를 만들 수 있습니다. \n",
    "- [A X B] : 두 특성의 값을 곱하여 구성되는 특성 교차\n",
    "- [A X B X C X D E] : 다섯 개의 특성 값을 곱하여 구성되는 특성 교차\n",
    "- [A X A] : 단일 특성을 제곱하여 구성되는 특성 교차\n",
    "\n",
    "- 결과적으로 예전부터 조정된 선형 모델을 특성 교차로 보완하는 방법으로 모델을 대규모 데이터셋에 효율적으로 학습시켜왔습니다."
   ]
  },
  {
   "cell_type": "markdown",
   "metadata": {},
   "source": [
    "---\n",
    "---"
   ]
  },
  {
   "cell_type": "markdown",
   "metadata": {},
   "source": [
    "## 2. Feature Crosses : One-Hot Vectors\n",
    "- 이제까지는 별개의 두 실수 특성의 특성 교차에 초점을 맞추었습니다. 실제로 머신러닝 모델에서 연속적인 특성을 교차하는 경우는 거의 없습니다. 하지만 원-핫 특성 벡터를 교차하는 경우는 많습니다. \n",
    "- 원-핫 특성 벡터의 특성 교차는 논리적 결합이라고 생각하면 됩니다. \n",
    "- country=USE, country=France 또는 Language=English, Language=Spanish로 해석할 수 있는 원-핫 벡터를 생성합니다.\n",
    "- 이러한 원-핫 코딩의 특성을 교차하면 다음과 같이 논리적 결합으로 해석할 수 있는 이진 특성이 생성됩니다.\n",
    "\n",
    "`country : usa AND language:spanish`\n",
    "\n",
    "- 다른 예로 위도와 경도를 비닝하여 다섯 개의 요소로 구성된 원-핫 특성 벡터를 만든다고 가정합니다.\n",
    "\n",
    "`binned_latitude = [0, 0, 0, 1, 0]`\n",
    "`binned_longitude = [0, 1, 0, 0, 0]`\n",
    "\n",
    "- 이 두 특성 벡터의 특성 교차를 만든다고 가정합니다.\n",
    "\n",
    "`binned_latitude X binned_longitude`\n",
    "\n",
    "- 이 특성 교차는 25개의 요소로 구성된 원-핫 벡터입니다.(24개의 0과 1개의 1), 5개의 경우의 수 * 5개의 경우의 수 = 25개 라는 듯."
   ]
  }
 ],
 "metadata": {
  "kernelspec": {
   "display_name": "Kyle",
   "language": "python",
   "name": "kyle"
  },
  "language_info": {
   "codemirror_mode": {
    "name": "ipython",
    "version": 3
   },
   "file_extension": ".py",
   "mimetype": "text/x-python",
   "name": "python",
   "nbconvert_exporter": "python",
   "pygments_lexer": "ipython3",
   "version": "3.6.8"
  }
 },
 "nbformat": 4,
 "nbformat_minor": 4
}
