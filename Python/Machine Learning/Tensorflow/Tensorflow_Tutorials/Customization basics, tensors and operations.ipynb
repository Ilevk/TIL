{
 "cells": [
  {
   "cell_type": "markdown",
   "metadata": {},
   "source": [
    "## 커스터마이징 기본: 텐서와 연산\n",
    "##### url: https://www.tensorflow.org/tutorials/customization/basics#import_tensorflow\n",
    "\n",
    "- 목차\n",
    "    - Tensorflow 불러오기\n",
    "    - Tensors\n",
    "        - Numpy 호환성\n",
    "    - GPU 가속\n",
    "        - Device 이름\n",
    "        - 특정 Device에 위치시키기\n",
    "    - Datasets\n",
    "        - 입력 데이터셋 생성하기\n",
    "        - 트랜스폼 연산 적용하기\n",
    "        - 반복하기\n",
    "        \n",
    "이번 텐서플로우 튜토리얼에서는 어떻게 다음과 같은 것들을 하는지 소개합니다.\n",
    "\n",
    "- 필요한 패키지 불러오기\n",
    "- 텐서를 생성하고 사용하기\n",
    "- GPU 가속 사용하기\n",
    "- `tf.data.Dataset` 시연하기"
   ]
  },
  {
   "cell_type": "code",
   "execution_count": 1,
   "metadata": {},
   "outputs": [],
   "source": [
    "from __future__ import absolute_import, division, print_function, unicode_literals"
   ]
  },
  {
   "cell_type": "markdown",
   "metadata": {},
   "source": [
    "## Tensorflow 불러오기\n",
    "\n",
    "시작하기위해 `tensorflow` 모듈을 불러와야합니다. Tensorflow 2에서는 '즉시 실행'이 기본값으로 설정되어 있습니다.<br>\n",
    "해당 설정은 Tensorflow를 더 상호작용 적으로 만들어줍니다. 더 자세한 내용은 다음에 이야기하겠습니다."
   ]
  },
  {
   "cell_type": "code",
   "execution_count": 2,
   "metadata": {},
   "outputs": [],
   "source": [
    "import tensorflow as tf"
   ]
  },
  {
   "cell_type": "markdown",
   "metadata": {},
   "source": [
    "## Tensors\n",
    "\n",
    "Tensor는 다-차원 행렬입니다. Numpy의 `ndarray` 객체와 비슷합니다. `tf.Tensor` 객체는 데이터 타입과 차원을 가집니다. <br>\n",
    "추가적으로, `tf.Tenso` GPU 같은 가속기의 메모리 내에 존재할 수 있습니다. <br>\n",
    "Tensorflow는 `tf.add`, `tf.matmal`, `tf.linalg.inv`등과 같은 다양한 연산 라이브러리를 제공합니다. <br>\n",
    "해당 연산들은 Tensor를 입력으로 사용하고 Tensor를 출력으로 내보냅니다. <br>\n",
    "이러한 연산들은 자동적으로 네이티브 파이선 데이터 타입으로 변환합니다. 예를 들어보겠습니다."
   ]
  },
  {
   "cell_type": "code",
   "execution_count": 3,
   "metadata": {},
   "outputs": [
    {
     "name": "stdout",
     "output_type": "stream",
     "text": [
      "tf.Tensor(3, shape=(), dtype=int32)\n",
      "tf.Tensor([4 6], shape=(2,), dtype=int32)\n",
      "tf.Tensor(25, shape=(), dtype=int32)\n",
      "tf.Tensor(6, shape=(), dtype=int32)\n",
      "tf.Tensor(13, shape=(), dtype=int32)\n"
     ]
    }
   ],
   "source": [
    "print(tf.add(1, 2))\n",
    "print(tf.add([1, 2], [3, 4]))\n",
    "print(tf.square(5))\n",
    "print(tf.reduce_sum([1, 2, 3]))\n",
    "\n",
    "# 연산자 오버로딩도 지원합니다.\n",
    "print(tf.square(2) + tf.square(3))"
   ]
  },
  {
   "cell_type": "markdown",
   "metadata": {},
   "source": [
    "각 `tf.Tensor`는 차원과 데이터 타입을 갖습니다."
   ]
  },
  {
   "cell_type": "code",
   "execution_count": 4,
   "metadata": {},
   "outputs": [
    {
     "name": "stdout",
     "output_type": "stream",
     "text": [
      "tf.Tensor([[2 3]], shape=(1, 2), dtype=int32)\n",
      "(1, 2)\n",
      "<dtype: 'int32'>\n"
     ]
    }
   ],
   "source": [
    "x = tf.matmul([[1]], [[2, 3]])\n",
    "print(x)\n",
    "print(x.shape)\n",
    "print(x.dtype)"
   ]
  },
  {
   "cell_type": "markdown",
   "metadata": {},
   "source": [
    "Numpy 행렬과 `tf.Tensor`가 명확하게 다른 점은 다음과 같습니다.\n",
    "1. Tensor는 GPU나 TPU 같은 가속기 메모리에 존재할 수 있다.\n",
    "2. Tensor는 변하지 않는다."
   ]
  }
 ],
 "metadata": {
  "kernelspec": {
   "display_name": "kyle",
   "language": "python",
   "name": "kyle"
  },
  "language_info": {
   "codemirror_mode": {
    "name": "ipython",
    "version": 3
   },
   "file_extension": ".py",
   "mimetype": "text/x-python",
   "name": "python",
   "nbconvert_exporter": "python",
   "pygments_lexer": "ipython3",
   "version": "3.6.5"
  }
 },
 "nbformat": 4,
 "nbformat_minor": 4
}
