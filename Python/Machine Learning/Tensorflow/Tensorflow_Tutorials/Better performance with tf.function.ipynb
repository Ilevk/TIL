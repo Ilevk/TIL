{
 "cells": [
  {
   "cell_type": "markdown",
   "metadata": {},
   "source": [
    "## 더 나은 성능의 tf.function\n",
    "##### url: https://www.tensorflow.org/tutorials/customization/performance\n",
    "\n",
    "- 목차\n",
    "    - 준비\n",
    "    - 기초\n",
    "    - 추적과 다형성\n",
    "    - 재추적 시기\n",
    "    - 파이썬 또는 텐서 인자\n",
    "    - tf.function의 부작용\n",
    "    - 파이썬 상태 값의 주의점\n",
    "    - 자동 제어 의존성\n",
    "    - 변수\n",
    "    - AutoGraph 사용하기\n",
    "    - AutoGraph: 조건\n",
    "    - AutoGraph와 반복문\n",
    "        - 루프\n",
    "        - 찾은 것\n",
    "    - 더 읽어볼 내용\n",
    "    \n",
    "Tensorflow 2.0에서는 즉시 실행 기능을 기본으로 채택하고 있습니다. 유저 인터페이스는 직관적이고 유연(하나의 연산을 실행하는것이 더욱 쉽고 빠릅니다.)하지만, 배포성과 성능 측면에서 비용을 지불하고 있습니다.<br><br>\n",
    "최대 성능을 얻는 것과 어디에서든 배포가 가능한 모델을 만들기 위해서는 `tf.function`을 사용하여 프로그램의 그래프를 만들어야합니다. 고맙게도 AutoGraph는, 놀라운 양의 파이썬 코드로 tf.function과 함께 작동하지만 여전히 주의해야할 어려움이 존재합니다.<br><br>\n",
    "다음은 피해야하는 것과 추천되는 것들 입니다.\n",
    "- 변환 가능한 객체와 리스트 어펜드 같은 파이썬 부작용에 의존하지마라 \n",
    "- tf.function은 Tensorflow 연산을 NumPy나 원시 파이썬 연산보다 가장 잘(best) 작동시킨다.\n",
    "- `for x in y` 같은 관용구를 사용할 때 의심해라.\n",
    "\n",
    "## 준비"
   ]
  },
  {
   "cell_type": "code",
   "execution_count": 1,
   "metadata": {},
   "outputs": [],
   "source": [
    "import tensorflow as tf"
   ]
  },
  {
   "cell_type": "markdown",
   "metadata": {},
   "source": [
    "직면할 수 있는 에러들을 시연하기 위해 helper 함수를 정의하겠습니다."
   ]
  },
  {
   "cell_type": "code",
   "execution_count": 13,
   "metadata": {},
   "outputs": [],
   "source": [
    "import traceback\n",
    "import contextlib\n",
    "\n",
    "# 직면할 수 있는 에러를 시연하기 위한 몇몇의 helper 코드\n",
    "@contextlib.contextmanager\n",
    "def assert_raises(error_class):\n",
    "    try:\n",
    "        yield\n",
    "    except error_class as e:\n",
    "        print('예상되는 예외를 찾았습니다. \\n {}:'.format(error_class))\n",
    "        traceback.print_exc(limit=2)\n",
    "    except Exception as e:\n",
    "        raise e\n",
    "    else:\n",
    "        raise Exception('예상된 {}가 발생하였으나 에러는 발생하지 않았습니다.'.format(error_class))"
   ]
  },
  {
   "cell_type": "markdown",
   "metadata": {},
   "source": [
    "## 기초\n",
    "\n",
    "당신이 정의한 `tf.function`은 핵심 Tensorflow 연산과 동일합니다.: 즉시 실행으로 사용할 수 있습니다; 그래프 내에서 사용할 수 있습니다; 그라디언트를 가집니다; "
   ]
  },
  {
   "cell_type": "code",
   "execution_count": 3,
   "metadata": {},
   "outputs": [
    {
     "data": {
      "text/plain": [
       "<tf.Tensor: shape=(2, 2), dtype=float32, numpy=\n",
       "array([[2., 2.],\n",
       "       [2., 2.]], dtype=float32)>"
      ]
     },
     "execution_count": 3,
     "metadata": {},
     "output_type": "execute_result"
    }
   ],
   "source": [
    "@tf.function\n",
    "def add(a, b):\n",
    "    return a + b\n",
    "\n",
    "add(tf.ones([2, 2]), tf.ones([2, 2])) # [[2., 2.], [2., 2.]]"
   ]
  },
  {
   "cell_type": "code",
   "execution_count": 5,
   "metadata": {},
   "outputs": [
    {
     "data": {
      "text/plain": [
       "<tf.Tensor: shape=(), dtype=float32, numpy=1.0>"
      ]
     },
     "execution_count": 5,
     "metadata": {},
     "output_type": "execute_result"
    }
   ],
   "source": [
    "v = tf.Variable(1.0)\n",
    "with tf.GradientTape() as tape:\n",
    "    result = add(v, 1.0)\n",
    "tape.gradient(result, v)"
   ]
  },
  {
   "cell_type": "markdown",
   "metadata": {},
   "source": [
    "함수 내에서 함수를 사용할 수도 있습니다."
   ]
  },
  {
   "cell_type": "code",
   "execution_count": 6,
   "metadata": {},
   "outputs": [
    {
     "data": {
      "text/plain": [
       "<tf.Tensor: shape=(3, 2), dtype=float32, numpy=\n",
       "array([[3., 3.],\n",
       "       [3., 3.],\n",
       "       [3., 3.]], dtype=float32)>"
      ]
     },
     "execution_count": 6,
     "metadata": {},
     "output_type": "execute_result"
    }
   ],
   "source": [
    "@tf.function\n",
    "def dense_layer(x, w, b):\n",
    "    return add(tf.matmul(x, w), b)\n",
    "\n",
    "dense_layer(tf.ones([3, 2]), tf.ones([2, 2]), tf.ones([2]))"
   ]
  },
  {
   "cell_type": "markdown",
   "metadata": {},
   "source": [
    "## Trace와 다형성\n",
    "\n",
    "파이썬의 동적 타이핑은 다양한 인자 타입으로 함수를 호출할 수 있다는 것을 의미합니다. 그리고 파이썬은 각 시나리오에 대해 몇몇은 다르게 작동합니다.<br><br>\n",
    "반면에, Tensorflow 그래프는 정적인 타입과 차원을 요구합니다. `tf.function`은 올바른 그래프를 생성을 필요로 할 때 함수를 Retrace하여 이러한 차이를 연결해줍니다. <br>\n",
    "대부분의 `tf.function`에 대한 미묘함은 Retrace 동작에서 비롯됩니다.<br><br>\n",
    "서로 다른 타입의 인자를 전달하여 어떤 일이 일어나는지 함수를 호출해볼 수 있습니다."
   ]
  },
  {
   "cell_type": "code",
   "execution_count": 9,
   "metadata": {},
   "outputs": [
    {
     "name": "stdout",
     "output_type": "stream",
     "text": [
      "Tracing with Tensor(\"a:0\", shape=(), dtype=int32)\n",
      "tf.Tensor(2, shape=(), dtype=int32)\n",
      "\n",
      "Tracing with Tensor(\"a:0\", shape=(), dtype=float32)\n",
      "tf.Tensor(2.2, shape=(), dtype=float32)\n",
      "\n",
      "Tracing with Tensor(\"a:0\", shape=(), dtype=string)\n",
      "tf.Tensor(b'aa', shape=(), dtype=string)\n",
      "\n"
     ]
    }
   ],
   "source": [
    "# 함수는 다양한 형을 가집니다.\n",
    "\n",
    "@tf.function\n",
    "def double(a):\n",
    "    print('Tracing with', a)\n",
    "    return a + a\n",
    "\n",
    "print(double(tf.constant(1)), end='\\n\\n')\n",
    "print(double(tf.constant(1.1)), end='\\n\\n')\n",
    "print(double(tf.constant('a')), end='\\n\\n')"
   ]
  },
  {
   "cell_type": "markdown",
   "metadata": {},
   "source": [
    "트레이스 동작을 제어하기위해, 다음과 같은 테크닉을 사용합니다.<br>\n",
    "\n",
    "- 새로운 tf.function 생성하기. Trace를 공유하지 않도록 tf.function 를 분리하여 보장합니다.\n",
    "- 특정한 Trace를 얻기 위해 `get_concrete_funciton` 메소드를 사용합니다.\n",
    "- 그래프를 호출할 때마다 한번만 Trace 하도록 `tf.function`을 호출할 때 `input_signature`를 명확화 합니다."
   ]
  },
  {
   "cell_type": "code",
   "execution_count": 11,
   "metadata": {},
   "outputs": [
    {
     "name": "stdout",
     "output_type": "stream",
     "text": [
      "구체적인 Trace 얻기\n",
      "Traced 함수 수행하기\n",
      "tf.Tensor(b'aa', shape=(), dtype=string)\n",
      "tf.Tensor(b'bb', shape=(), dtype=string)\n",
      "호환이 되지 않는 타입으로 특정 trace를 사용하는 것은 오류를 발생시킵니다.\n",
      "예상되던 예외를 찾았습니다. \n",
      " <class 'tensorflow.python.framework.errors_impl.InvalidArgumentError'>:\n"
     ]
    },
    {
     "name": "stderr",
     "output_type": "stream",
     "text": [
      "Traceback (most recent call last):\n",
      "  File \"<ipython-input-2-c00eb3beca2a>\", line 8, in assert_raises\n",
      "    yield\n",
      "  File \"<ipython-input-11-97fe1bcb1b7c>\", line 9, in <module>\n",
      "    double_strings(tf.constant(1))\n",
      "tensorflow.python.framework.errors_impl.InvalidArgumentError: cannot compute __inference_double_117 as input #0(zero-based) was expected to be a string tensor but is a int32 tensor [Op:__inference_double_117]\n"
     ]
    }
   ],
   "source": [
    "print('구체적인 Trace 얻기')\n",
    "double_strings = double.get_concrete_function(tf.TensorSpec(shape=None,\n",
    "                                                            dtype=tf.string))\n",
    "print('Traced 함수 수행하기')\n",
    "print(double_strings(tf.constant('a')))\n",
    "print(double_strings(a=tf.constant('b')))\n",
    "print('호환이 되지 않는 타입으로 특정 trace를 사용하는 것은 오류를 발생시킵니다.')\n",
    "with assert_raises(tf.errors.InvalidArgumentError):\n",
    "    double_strings(tf.constant(1))"
   ]
  },
  {
   "cell_type": "code",
   "execution_count": 14,
   "metadata": {},
   "outputs": [
    {
     "name": "stdout",
     "output_type": "stream",
     "text": [
      "Tracing with Tensor(\"x:0\", shape=(None,), dtype=int32)\n",
      "tf.Tensor([4 1], shape=(2,), dtype=int32)\n",
      "예상되는 예외를 찾았습니다. \n",
      " <class 'ValueError'>:\n"
     ]
    },
    {
     "name": "stderr",
     "output_type": "stream",
     "text": [
      "Traceback (most recent call last):\n",
      "  File \"<ipython-input-13-4dbdae590238>\", line 8, in assert_raises\n",
      "    yield\n",
      "  File \"<ipython-input-14-1e97437e7e0d>\", line 9, in <module>\n",
      "    next_collatz(tf.constant([[1, 2], [3, 4]]))\n",
      "ValueError: Python inputs incompatible with input_signature:\n",
      "  inputs: (\n",
      "    tf.Tensor(\n",
      "[[1 2]\n",
      " [3 4]], shape=(2, 2), dtype=int32))\n",
      "  input_signature: (\n",
      "    TensorSpec(shape=(None,), dtype=tf.int32, name=None))\n"
     ]
    }
   ],
   "source": [
    "@tf.function(input_signature=(tf.TensorSpec(shape=[None], dtype=tf.int32),))\n",
    "def next_collatz(x):\n",
    "    print('Tracing with', x)\n",
    "    return tf.where(x % 2 == 0, x // 2, 3 * x + 1)\n",
    "\n",
    "print(next_collatz(tf.constant([1, 2])))\n",
    "# 입력 시그니처에서 1 차원 텐서로 지정했습니다, 따라서 다음 구문은 실패하게 됩니다.\n",
    "with assert_raises(ValueError):\n",
    "    next_collatz(tf.constant([[1, 2], [3, 4]]))"
   ]
  }
 ],
 "metadata": {
  "kernelspec": {
   "display_name": "kyle",
   "language": "python",
   "name": "kyle"
  },
  "language_info": {
   "codemirror_mode": {
    "name": "ipython",
    "version": 3
   },
   "file_extension": ".py",
   "mimetype": "text/x-python",
   "name": "python",
   "nbconvert_exporter": "python",
   "pygments_lexer": "ipython3",
   "version": "3.6.5"
  }
 },
 "nbformat": 4,
 "nbformat_minor": 4
}
