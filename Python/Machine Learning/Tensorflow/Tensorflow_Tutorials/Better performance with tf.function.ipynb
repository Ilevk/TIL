{
 "cells": [
  {
   "cell_type": "markdown",
   "metadata": {},
   "source": [
    "## 더 나은 성능의 tf.function\n",
    "##### url: https://www.tensorflow.org/tutorials/customization/performance\n",
    "\n",
    "- 목차\n",
    "    - 준비\n",
    "    - 기본\n",
    "    - 추적과 다형성\n",
    "    - 재추적 시기\n",
    "    - 파이썬 또는 텐서 인자\n",
    "    - tf.function의 부작용\n",
    "    - 파이썬 상태 값의 주의점\n",
    "    - 자동 제어 의존성\n",
    "    - 변수\n",
    "    - AutoGraph 사용하기\n",
    "    - AutoGraph: 조건\n",
    "    - AutoGraph와 반복문\n",
    "        - 루프\n",
    "        - 찾은 것\n",
    "    - 더 읽어볼 내용\n",
    "    \n",
    "Tensorflow 2.0에서는 즉시 실행 기능을 기본으로 채택하고 있습니다. 유저 인터페이스는 직관적이고 유연(하나의 연산을 실행하는것이 더욱 쉽고 빠릅니다.)하지만, 배포성과 성능 측면에서 비용을 지불하고 있습니다.<br><br>\n",
    "최대 성능을 얻는 것과 어디에서든 배포가 가능한 모델을 만들기 위해서는 `tf.function`을 사용하여 프로그램의 그래프를 만들어야합니다. 고맙게도 AutoGraph는, 놀라운 양의 파이썬 코드로 tf.function과 함께 작동하지만 여전히 주의해야할 어려움이 존재합니다.<br><br>\n",
    "다음은 피해야하는 것과 추천되는 것들 입니다.\n",
    "- 변환 가능한 객체와 리스트 어펜드 같은 파이썬 부작용에 의존하지마라 \n",
    "- tf.function은 Tensorflow 연산을 NumPy나 원시 파이썬 연산보다 가장 잘(best) 작동시킨다.\n",
    "- `for x in y` 같은 관용구를 사용할 때 의심해라.\n",
    "\n",
    "## 준비"
   ]
  },
  {
   "cell_type": "code",
   "execution_count": 1,
   "metadata": {},
   "outputs": [],
   "source": [
    "import tensorflow as tf"
   ]
  },
  {
   "cell_type": "markdown",
   "metadata": {},
   "source": [
    "직면할 수 있는 에러들을 시연하기 위해 helper 함수를 정의하겠습니다."
   ]
  },
  {
   "cell_type": "code",
   "execution_count": 2,
   "metadata": {},
   "outputs": [],
   "source": [
    "import traceback\n",
    "import contextlib\n",
    "\n",
    "# 직면할 수 있는 에러를 시연하기 위한 몇몇의 helper 코드\n",
    "@contextlib.contextmanager\n",
    "def assert_raises(error_class):\n",
    "    try:\n",
    "        yield\n",
    "    except error_class as e:\n",
    "        print('예상되던 예외를 찾았습니다. \\n {}:'.format(error_class))\n",
    "        traceback.print_exc(limit=2)\n",
    "    except Exception as e:\n",
    "        raise e\n",
    "    else:\n",
    "        raise Exception('예상된 {}가 발생하였으나 에러는 발생하지 않았습니다.'.format(error_class))"
   ]
  }
 ],
 "metadata": {
  "kernelspec": {
   "display_name": "kyle",
   "language": "python",
   "name": "kyle"
  },
  "language_info": {
   "codemirror_mode": {
    "name": "ipython",
    "version": 3
   },
   "file_extension": ".py",
   "mimetype": "text/x-python",
   "name": "python",
   "nbconvert_exporter": "python",
   "pygments_lexer": "ipython3",
   "version": "3.6.5"
  }
 },
 "nbformat": 4,
 "nbformat_minor": 4
}
