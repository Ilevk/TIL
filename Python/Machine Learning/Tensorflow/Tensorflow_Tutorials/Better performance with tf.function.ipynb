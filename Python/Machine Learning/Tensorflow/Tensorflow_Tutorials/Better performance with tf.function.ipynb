{
 "cells": [
  {
   "cell_type": "markdown",
   "metadata": {},
   "source": [
    "## 더 나은 성능의 tf.function\n",
    "##### url: https://www.tensorflow.org/tutorials/customization/performance\n",
    "\n",
    "- 목차\n",
    "    - 준비\n",
    "    - 기본\n",
    "    - 추적과 다형성\n",
    "    - 재추적 시기\n",
    "    - 파이썬 또는 텐서 인자\n",
    "    - tf.function의 부작용\n",
    "    - 파이썬 상태 값의 주의점\n",
    "    - 자동 제어 의존성\n",
    "    - 변수\n",
    "    - 자동 그래프 사용하기\n",
    "    - 자동그래프: 조건\n",
    "    - 자동 그래프와 반복문\n",
    "        - 루프\n",
    "        - 찾은 것\n",
    "    - 더 읽어볼 내용"
   ]
  }
 ],
 "metadata": {
  "kernelspec": {
   "display_name": "kyle",
   "language": "python",
   "name": "kyle"
  },
  "language_info": {
   "codemirror_mode": {
    "name": "ipython",
    "version": 3
   },
   "file_extension": ".py",
   "mimetype": "text/x-python",
   "name": "python",
   "nbconvert_exporter": "python",
   "pygments_lexer": "ipython3",
   "version": "3.6.5"
  }
 },
 "nbformat": 4,
 "nbformat_minor": 4
}
