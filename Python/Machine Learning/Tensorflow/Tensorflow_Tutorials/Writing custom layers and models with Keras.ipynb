{
 "cells": [
  {
   "cell_type": "markdown",
   "metadata": {},
   "source": [
    "## 케라스 모델과 레이어를 맞춤형으로 사용하기\n",
    "##### url: https://www.tensorflow.org/guide/keras/custom_layers_and_models\n",
    "\n",
    "- 목차\n",
    "    - 설정\n",
    "    - 레이어 클래스\n",
    "        - 레이어에서 가중치와 연산 캡슐화하기\n",
    "        - 모범 예제: 입력 차원이 알려지기 전까지 가중치 생성 지연\n",
    "        - 재귀적으로 레이어 구성하기\n",
    "        - 데이터가 모델을 통과하는 동안 생성되는 손실 값을 재귀적으로 수집하는 레이어\n",
    "        - 선택적으로 레이어 직렬화 활성화하기\n",
    "        - Call 메소드가 가지는 훈련 인자에 대한 특권\n",
    "    - 모델 작성하기\n",
    "        - 모델 클래스\n",
    "        - 하나로 합치기: 엔드 투 엔드 예제\n",
    "        - 객체 지향 개발 기법을 넘어서: 함수형 API"
   ]
  }
 ],
 "metadata": {
  "kernelspec": {
   "display_name": "kyle",
   "language": "python",
   "name": "kyle"
  },
  "language_info": {
   "codemirror_mode": {
    "name": "ipython",
    "version": 3
   },
   "file_extension": ".py",
   "mimetype": "text/x-python",
   "name": "python",
   "nbconvert_exporter": "python",
   "pygments_lexer": "ipython3",
   "version": "3.6.5"
  }
 },
 "nbformat": 4,
 "nbformat_minor": 4
}
