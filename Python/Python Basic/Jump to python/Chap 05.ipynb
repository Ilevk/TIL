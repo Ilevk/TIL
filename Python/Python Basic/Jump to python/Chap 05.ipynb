{
 "cells": [
  {
   "cell_type": "markdown",
   "metadata": {},
   "source": [
    "# Chap 05. 파이썬 날개달기\n",
    "### - Contents\n",
    "    1. 클래스\n",
    "    2. 모듈\n",
    "    3. 패키지\n",
    "    4. 예외 처리\n",
    "    5. 내장 함수\n",
    "    6. 외장 함수"
   ]
  },
  {
   "cell_type": "markdown",
   "metadata": {},
   "source": [
    "## 1. 클래스\n",
    "### 클래스는 왜 필요한가?\n",
    "클래스는 함수나 자료형처럼 프로그램 작성을 위해 꼭 필요한 요소는 아니다.<br>\n",
    "하지만 프로그램을 작성할 때 클래스를 적재적소에 사용하면 프로그래머가 얻을 수 있는 이익은 상당하다.<br>\n",
    "예제를 통해 알아보자.\n",
    "\n",
    "<img src=https://wikidocs.net/images/page/28/calc.png />\n",
    "\n",
    "    계산기는 이전에 계산한 결괏값을 기억하고 있어야 한다.\n",
    "    \n",
    "이러한 내용을 우리가 앞에서 익힌 함수를 통해 구현해 보자. "
   ]
  },
  {
   "cell_type": "code",
   "execution_count": 1,
   "metadata": {},
   "outputs": [
    {
     "name": "stdout",
     "output_type": "stream",
     "text": [
      "3\n",
      "7\n"
     ]
    }
   ],
   "source": [
    "result = 0\n",
    "def add(num):\n",
    "    global result\n",
    "    result += num\n",
    "    return result\n",
    "\n",
    "print(add(3))\n",
    "print(add(4))"
   ]
  },
  {
   "cell_type": "markdown",
   "metadata": {},
   "source": [
    "만일 한 프고르매에서 2개의 계산기가 필요한 상황이 발생하면 어떻게 해야할까?"
   ]
  },
  {
   "cell_type": "code",
   "execution_count": 1,
   "metadata": {},
   "outputs": [
    {
     "name": "stdout",
     "output_type": "stream",
     "text": [
      "3\n",
      "7\n",
      "3\n",
      "10\n"
     ]
    }
   ],
   "source": [
    "result1 = 0\n",
    "result2 = 0\n",
    "\n",
    "def add1(num):\n",
    "    global result1\n",
    "    result1 += num\n",
    "    return result1\n",
    "\n",
    "def add2(num):\n",
    "    global result2\n",
    "    result2 += num\n",
    "    return result2\n",
    "\n",
    "print(add1(3))\n",
    "print(add1(4))\n",
    "print(add2(3))\n",
    "print(add2(7))"
   ]
  },
  {
   "cell_type": "markdown",
   "metadata": {},
   "source": [
    "똑같은 일을 하는 함수 add1과 add2를 만들었다. 하지만, 계산기가 3개, 5개.. 점점 더 많이 필요하다면 어떻게 해야할까?<br>\n",
    "전역 변수와 함수를 매번 추가하기는 어렵다. 추가적인 기능이 생길 수도 있다."
   ]
  },
  {
   "cell_type": "code",
   "execution_count": 2,
   "metadata": {},
   "outputs": [
    {
     "name": "stdout",
     "output_type": "stream",
     "text": [
      "3\n",
      "7\n",
      "3\n",
      "10\n"
     ]
    }
   ],
   "source": [
    "# 클래스를 사용해보자.\n",
    "class Calculator():\n",
    "    def __init__(self):\n",
    "        self.result = 0\n",
    "        \n",
    "    def add(self, num):\n",
    "        self.result += num\n",
    "        return self.result\n",
    "    \n",
    "cal1 = Calculator()\n",
    "cal2 = Calculator()\n",
    "\n",
    "print(cal1.add(3))\n",
    "print(cal1.add(4))\n",
    "print(cal2.add(3))\n",
    "print(cal2.add(7))"
   ]
  },
  {
   "cell_type": "markdown",
   "metadata": {},
   "source": [
    "Calculator 클래스로 만든 별개의 계산기 cal1, cal2가 각각의 역할을 수행한다. 그리고 계싼기의 결괏값 역시 다른 계산기의 결괏값에 상관없이 독립적인 값을 유지한다.<br>\n",
    "만약 빼기 기능을 더하려면 Calculator 클래스에 다음과 같은 빼기 기능 함수를 추가해주면 된다.\n",
    "\n",
    "    def sub(self, num):\n",
    "        self.result -= num\n",
    "        return self.result\n",
    "        \n",
    "---"
   ]
  },
  {
   "cell_type": "markdown",
   "metadata": {},
   "source": [
    "### 클래스와 객체\n",
    "<img src=https://wikidocs.net/images/page/28/class_cookie.png />\n",
    "과자를 만드는 틀 -> 클래스(class)<br>\n",
    "과자 틀에 의해서 만들어진 과자 -> 객체(object)<br><br>\n",
    "클래스로 만든 객체는 객체마다 고유한 성격을 가진다. 동일한 클래스로 만든 객체들은 서로 전혀 영향을 주지 않는다."
   ]
  },
  {
   "cell_type": "code",
   "execution_count": 3,
   "metadata": {},
   "outputs": [],
   "source": [
    "# 가장 간단한 class 예\n",
    "class Cookie():\n",
    "    pass"
   ]
  },
  {
   "cell_type": "code",
   "execution_count": 4,
   "metadata": {},
   "outputs": [],
   "source": [
    "a = Cookie()\n",
    "b = Cookie()"
   ]
  },
  {
   "cell_type": "markdown",
   "metadata": {},
   "source": [
    "#### 객체와 인스턴스의 차이\n",
    "클래스로 만든 객체를 인스턴스라고도 한다. a = Cookie() 라고 할 때, a는 객체이다. 그리고 a 객체는 Cookie의 인스턴스이다. 즉 인스턴스라는 말은 특정 객체(a)가 어떤 클래스(Cookie)의 객체인지를 관계 위주로 설명할 때 사용한다. \"a는 인스턴스\"보다는 \"a는 객체\"라는 표현이 어울리며 \"a는 Cookie의 객체\"보다는 \"a는 Cookie의 인스턴스\"라는 표현이 잘 어울린다."
   ]
  },
  {
   "cell_type": "markdown",
   "metadata": {},
   "source": [
    "### 사칙연산 클래스 만들기\n",
    "#### 클래스를 어떻게 만들지 구상하기\n",
    "사칙연산을 가능하게 하는 FourCal 클래스를 만든다.\n",
    "\n",
    "    >>> a = FourCal()\n",
    "    \n",
    "그런 다음 `a.setdata(4, 2)`처럼 입력해서 숫자 4와 2를 a에 지정해주고\n",
    "    \n",
    "    >>> a.setdata(4,2)\n",
    "    \n",
    "`a.add()`를 수행하면 두 수를 합한 결과 (`4 + 2`)를 돌려주고\n",
    "\n",
    "    >>> print(a.add())\n",
    "    6\n",
    "`a.mul()`을 수행하면 두 수를 곱한 결과 (`4 * 2`)를 돌려주고\n",
    "\n",
    "    >>> print(a.mul())\n",
    "    8\n",
    "    \n",
    "`a.sub()`를 수행하면 두 수를 뺀 결과 (`4 - 2`)를 돌려주고\n",
    "\n",
    "    >>> print(a.sub())\n",
    "    2\n",
    "    \n",
    "`a.div()`를 수행하면 두 수를 나눈 결과 (`4 / 2`)를 돌려준다.\n",
    "\n",
    "    >>> print(a.div())\n",
    "    2\n",
    "    \n",
    "이렇게 동작하는 FourCal 클래스를 만드는 것이 바로 우리의 목표이다.\n",
    "\n",
    "#### 클래스 구조 만들기"
   ]
  },
  {
   "cell_type": "code",
   "execution_count": 7,
   "metadata": {},
   "outputs": [],
   "source": [
    "class FourCal():\n",
    "    pass"
   ]
  },
  {
   "cell_type": "code",
   "execution_count": 8,
   "metadata": {},
   "outputs": [
    {
     "data": {
      "text/plain": [
       "__main__.FourCal"
      ]
     },
     "execution_count": 8,
     "metadata": {},
     "output_type": "execute_result"
    }
   ],
   "source": [
    "a = FourCal()\n",
    "type(a)"
   ]
  },
  {
   "cell_type": "markdown",
   "metadata": {},
   "source": [
    "---\n",
    "\n",
    "### 객체에 숫자 지정할 수 있게 만들기\n",
    "\n",
    "    >>> a.setdata(4, 2)\n",
    "위 문장을 수행하려면 다음과 같이 소스 코드를 작성해야 한다."
   ]
  },
  {
   "cell_type": "code",
   "execution_count": 10,
   "metadata": {},
   "outputs": [],
   "source": [
    "class FourCal():\n",
    "    \n",
    "    # 클래스 안에 구현된 함수는 메서드(Method) 라고 부른다.\n",
    "    def setdata(self, first, second):\n",
    "        self.first  = first\n",
    "        self.second = second"
   ]
  },
  {
   "cell_type": "markdown",
   "metadata": {},
   "source": [
    "setdata 메서드를 다시 보면 다음과 같다.\n",
    "\n",
    "    def setdata(self, first, second):  1. 메서드의 매개변수\n",
    "        self.first  = first            2. 메서드의 수행문\n",
    "        self.second = second           2. 메서드의 수행문\n",
    "        \n",
    "#### 1. setdata 메서드의 매개변수"
   ]
  },
  {
   "cell_type": "code",
   "execution_count": 11,
   "metadata": {},
   "outputs": [],
   "source": [
    "a = FourCal()\n",
    "a.setdata(4, 2)"
   ]
  },
  {
   "cell_type": "markdown",
   "metadata": {},
   "source": [
    "이런식으로 매개변수가 전달이 된다. self에는 setdata 메서드를 호출한 객체 a가 자동으로 전달된다.\n",
    "\n",
    "<img src=https://wikidocs.net/images/page/12392/setdata.png />"
   ]
  },
  {
   "cell_type": "markdown",
   "metadata": {},
   "source": [
    "#### 2. setdata 메서드의 수행문\n",
    "\n",
    "    def setdata(self, first, second):\n",
    "        self.first = first\n",
    "        self.second = second\n",
    "        \n",
    "`a.setdat(4, 2)`처럼 호출하면 setdat 메서드의 매개변수 first, second에는 각각 값 4와 2가 전달되어 setdata 메서드의 수행문은 다음과 같이 해석된다.\n",
    "\n",
    "    self.first = 4\n",
    "    self.second = 2\n",
    "   \n",
    "self는 전달된 객체 a 이므로 다시 다음과 같이 해석된다.\n",
    "\n",
    "    a.first = 4\n",
    "    a.second = 2\n",
    "    \n",
    "`a.first = 4`문장이 수행되면 a 객체에 객체변수 first가 생성되고 값 4가 저장된다. 마찬가지로 `a.second = 2`문장이 수행되면 a 객체에 객체 변수 second가 생성되고 값 2가 저장된다.<br>\n",
    "- 객체에 생성되는 객체만의 변수를 객체변수라고 부른다."
   ]
  },
  {
   "cell_type": "code",
   "execution_count": 13,
   "metadata": {},
   "outputs": [
    {
     "name": "stdout",
     "output_type": "stream",
     "text": [
      "4\n",
      "2\n"
     ]
    }
   ],
   "source": [
    "a = FourCal()\n",
    "a.setdata(4, 2)\n",
    "print(a.first)\n",
    "print(a.second)"
   ]
  },
  {
   "cell_type": "markdown",
   "metadata": {},
   "source": [
    "#### 더하기, 곱하기, 빼기, 나누기 기능 만들기"
   ]
  },
  {
   "cell_type": "code",
   "execution_count": 18,
   "metadata": {},
   "outputs": [],
   "source": [
    "class FourCal():\n",
    "    def setdata(self, first, second):\n",
    "        self.first = first\n",
    "        self.second = second\n",
    "        \n",
    "    def add(self):\n",
    "        result = self.first + self.second\n",
    "        return result\n",
    "    \n",
    "    def mul(self):\n",
    "        result = self.first * self.second\n",
    "        return result\n",
    "    \n",
    "    def sub(self):\n",
    "        result = self.first - self.second\n",
    "        return result\n",
    "    \n",
    "    def div(self):\n",
    "        result = self.first / self.second\n",
    "        return result"
   ]
  },
  {
   "cell_type": "code",
   "execution_count": 19,
   "metadata": {},
   "outputs": [],
   "source": [
    "a = FourCal()\n",
    "a.setdata(4, 2)"
   ]
  },
  {
   "cell_type": "code",
   "execution_count": 20,
   "metadata": {},
   "outputs": [
    {
     "name": "stdout",
     "output_type": "stream",
     "text": [
      "6\n",
      "8\n",
      "2\n",
      "2.0\n"
     ]
    }
   ],
   "source": [
    "print(a.add())\n",
    "print(a.mul())\n",
    "print(a.sub())\n",
    "print(a.div())"
   ]
  },
  {
   "cell_type": "markdown",
   "metadata": {},
   "source": [
    "---\n",
    "\n",
    "### 생성자 (Constructor)\n",
    "ForCal 클래스의 인스턴스 a에 setdata 메서드를 수행하지 않고 add 메서드를 수행하면 오류가 발생한다.<br>\n",
    "setdata 메서드를 수행해야 객체 a의 객체변수 first와 second가 생성되기 때문이다.<br><br>\n",
    "이렇게 객체에 초깃값을 설정해야 할 필요가 있을 때에는 생성자를 구현하는 것이 안전한 방법이다.<br><br>\n",
    "파이썬 메서드 이름으로 `__init__` 을 사용하면 이 메서드는 생성자가 된다."
   ]
  },
  {
   "cell_type": "code",
   "execution_count": 21,
   "metadata": {},
   "outputs": [],
   "source": [
    "class FourCal():\n",
    "    def __init__(self, first, second):\n",
    "        self.first  = first\n",
    "        self.second = second\n",
    "        \n",
    "    def setdata(self, first, second):\n",
    "        self.first = first\n",
    "        self.second = second\n",
    "        \n",
    "    def add(self):\n",
    "        result = self.first + self.second\n",
    "        return result\n",
    "    \n",
    "    def mul(self):\n",
    "        result = self.first * self.second\n",
    "        return result\n",
    "    \n",
    "    def sub(self):\n",
    "        result = self.first - self.second\n",
    "        return result\n",
    "    \n",
    "    def div(self):\n",
    "        result = self.first / self.second\n",
    "        return result"
   ]
  },
  {
   "cell_type": "markdown",
   "metadata": {},
   "source": [
    "새롭게 추가된 생성자 `__init__` 메서드만 따로 떼어 내서 살펴보자.\n",
    "\n",
    "    def __init__(self, first, second):\n",
    "        self.first  = first\n",
    "        self.second = second\n",
    "\n",
    "`__init__` 메서드는 setdata 메서드와 이름만 다르고 모든게 동일하다. 단 메서드 이름을 `__init__`으로 했기 때문에 생성자로 인식되어 객체가 생성되는 시점에 자동으로 호출되는 차이가 있다.\n",
    "\n",
    "    >>> a = FourCal()\n",
    "\n",
    "위와 같이 객체를 생성하는 경우 오류가 발생한다. 생성자의 매개변수 first와 second에 해당하는 값이 전달되지 않았기 때문이다.\n",
    "\n",
    "    >>> a = FourCal(4, 2)\n",
    "    \n",
    "---"
   ]
  },
  {
   "cell_type": "markdown",
   "metadata": {},
   "source": [
    "### 클래스의 상속\n",
    "상속(Inheritance)이란 '물려받다'라는 뜻으로, '재산을 상속받다' 할 때의 상속과 같은 의미이다. 클래스에도 이 개념을 적용할 수 있다. 이번에는 상속 개념을 사용하여 우리가 만든 FourCal 클래스에 $a^b$(a의 b제곱)을 구할 수 있는 기능을 추가해보자."
   ]
  },
  {
   "cell_type": "code",
   "execution_count": 22,
   "metadata": {},
   "outputs": [],
   "source": [
    "class MoreFourCal(FourCal):\n",
    "    pass"
   ]
  },
  {
   "cell_type": "markdown",
   "metadata": {},
   "source": [
    "클래스를 상속하기 위해서는 다음처럼 클래스 이름 뒤 괄호 안에 상속할 클래스 이름을 넣어주면 된다.\n",
    "\n",
    "    class 클래스 이름(상속할 클래스 이름)"
   ]
  },
  {
   "cell_type": "code",
   "execution_count": 24,
   "metadata": {},
   "outputs": [
    {
     "name": "stdout",
     "output_type": "stream",
     "text": [
      "6\n",
      "8\n",
      "2\n",
      "2.0\n"
     ]
    }
   ],
   "source": [
    "a = MoreFourCal(4, 2)\n",
    "print(a.add())\n",
    "print(a.mul())\n",
    "print(a.sub())\n",
    "print(a.div())"
   ]
  },
  {
   "cell_type": "markdown",
   "metadata": {},
   "source": [
    "상속받은 FourCal 클래스의 기능을 모두 사용할 수 있음을 확인할 수 있다.\n",
    "\n",
    "#### 왜 상속을 해야할까?\n",
    "보통 상속은 기존 클래스를 변경하지 않고 기능을 추가하거나 기존 기능을 변경하려고 할 때 사용된다.<br><br>\n",
    "이제 a의 b제곱을 계산하는 MoreFourCal 클래스를 만들어보자."
   ]
  },
  {
   "cell_type": "code",
   "execution_count": 26,
   "metadata": {},
   "outputs": [
    {
     "data": {
      "text/plain": [
       "16"
      ]
     },
     "execution_count": 26,
     "metadata": {},
     "output_type": "execute_result"
    }
   ],
   "source": [
    "class MoreFourCal(FourCal):\n",
    "    def pow(self):\n",
    "        result = self.first ** self.second\n",
    "        return result\n",
    "    \n",
    "    \n",
    "a = MoreFourCal(4, 2)\n",
    "a.pow()"
   ]
  },
  {
   "cell_type": "markdown",
   "metadata": {},
   "source": [
    "---\n",
    "\n",
    "### 메서드 오버라이딩\n",
    "이번에는 FourCal 클래스를 다음과 같이 실행해보자.\n",
    "\n",
    "    >>> a = FourCal(4, 0)\n",
    "    >>> a.div()\n",
    "    \n",
    "그러면 오류가 발생한다. 정수를 0으로 나누었기 때문이다. 하지만 0으로 나눌 때 오류가 아닌 0을 돌려주도록 만들고 싶다면 어떻게 해야할까?<br><br>\n",
    "다음과 같이 FourCal 클래스를 상속하는 SafeFourCal 클래스를 만들어 보자."
   ]
  },
  {
   "cell_type": "code",
   "execution_count": 27,
   "metadata": {},
   "outputs": [],
   "source": [
    "class SafeFourCal(FourCal):\n",
    "    def div(self):\n",
    "        if self.second == 0:\n",
    "            return 0\n",
    "        else:\n",
    "            return self.first / self.second"
   ]
  },
  {
   "cell_type": "markdown",
   "metadata": {},
   "source": [
    "SafeFourCal 클래스는 FourCal 클래스에 있는 div 메서드를 동일한 이름으로 다시 작성하였다. 이렇게 부모 클래스에 있는 메서드를 동일한 이름으로 다시 만드는 것을 **메서드 오버라이딩**(Overriding, 덮어쓰기)라고 한다.<br><br>\n",
    "이렇게 메서드를 오버라이딩하면 부모 클래스의 메서드 대신 오버라이딩한 메서드가 호출된다."
   ]
  },
  {
   "cell_type": "code",
   "execution_count": 28,
   "metadata": {},
   "outputs": [
    {
     "data": {
      "text/plain": [
       "0"
      ]
     },
     "execution_count": 28,
     "metadata": {},
     "output_type": "execute_result"
    }
   ],
   "source": [
    "a = SafeFourCal(4, 0)\n",
    "a.div()"
   ]
  },
  {
   "cell_type": "markdown",
   "metadata": {},
   "source": [
    "---\n",
    "\n",
    "### 클래스 변수\n",
    "객체 변수는 다른 객체들에 영향받지 않고 독립적으로 그 값을 유지한다는 점을 이미 알아보았다. 이번에는 객체 변수와는 성격이 다른 클래스 변수에 대해 알아보자. <br>\n",
    "다음 클래스를 작성해보자."
   ]
  },
  {
   "cell_type": "code",
   "execution_count": 29,
   "metadata": {},
   "outputs": [],
   "source": [
    "class Family():\n",
    "    lastname = '김'"
   ]
  },
  {
   "cell_type": "markdown",
   "metadata": {},
   "source": [
    "이제 Family 클래스를 다음과 같이 사용해보자."
   ]
  },
  {
   "cell_type": "code",
   "execution_count": 30,
   "metadata": {},
   "outputs": [
    {
     "name": "stdout",
     "output_type": "stream",
     "text": [
      "김\n"
     ]
    }
   ],
   "source": [
    "print(Family.lastname)"
   ]
  },
  {
   "cell_type": "markdown",
   "metadata": {},
   "source": [
    "클래스 변수는 위 예와 같이 `클래스이름.클래스 변수`로 사용할 수 있다. <br>\n",
    "또는 다음과 같이 Family 클래스로 만든 객체를 통해서도 클래스 변수를 사용할 수 있다."
   ]
  },
  {
   "cell_type": "code",
   "execution_count": 31,
   "metadata": {},
   "outputs": [
    {
     "name": "stdout",
     "output_type": "stream",
     "text": [
      "김\n",
      "김\n"
     ]
    }
   ],
   "source": [
    "a = Family()\n",
    "b = Family()\n",
    "print(a.lastname)\n",
    "print(b.lastname)"
   ]
  },
  {
   "cell_type": "markdown",
   "metadata": {},
   "source": [
    "Family 클래스의 lastname을 다음과 같이 '박'이라는 문자열로 바꾸면 클래스 변수가 변경된다."
   ]
  },
  {
   "cell_type": "code",
   "execution_count": 32,
   "metadata": {},
   "outputs": [
    {
     "name": "stdout",
     "output_type": "stream",
     "text": [
      "박\n",
      "박\n"
     ]
    }
   ],
   "source": [
    "Family.lastname = '박'\n",
    "\n",
    "print(a.lastname)\n",
    "print(b.lastname)"
   ]
  },
  {
   "cell_type": "markdown",
   "metadata": {},
   "source": [
    "클래스 변수는 클래스로 만든 모든 객체에 공유된다는 특징이 있다.<br><br>\n",
    "id 함수를 사용하면 클래스 변수가 공유된다는 사실을 증명할 수 있다."
   ]
  },
  {
   "cell_type": "code",
   "execution_count": 33,
   "metadata": {},
   "outputs": [
    {
     "name": "stdout",
     "output_type": "stream",
     "text": [
      "139778201599232\n",
      "139778201599232\n",
      "139778201599232\n"
     ]
    }
   ],
   "source": [
    "print(id(Family.lastname))\n",
    "print(id(a.lastname))\n",
    "print(id(b.lastname))"
   ]
  },
  {
   "cell_type": "markdown",
   "metadata": {},
   "source": [
    "id 함수는 메모리 주소를 알려준다. "
   ]
  }
 ],
 "metadata": {
  "kernelspec": {
   "display_name": "Kyle",
   "language": "python",
   "name": "kyle"
  },
  "language_info": {
   "codemirror_mode": {
    "name": "ipython",
    "version": 3
   },
   "file_extension": ".py",
   "mimetype": "text/x-python",
   "name": "python",
   "nbconvert_exporter": "python",
   "pygments_lexer": "ipython3",
   "version": "3.6.8"
  }
 },
 "nbformat": 4,
 "nbformat_minor": 4
}
