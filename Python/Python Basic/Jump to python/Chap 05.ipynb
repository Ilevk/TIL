{
 "cells": [
  {
   "cell_type": "markdown",
   "metadata": {},
   "source": [
    "# Chap 05. 파이썬 날개달기\n",
    "### - Contents\n",
    "    1. 클래스\n",
    "    2. 모듈\n",
    "    3. 패키지\n",
    "    4. 예외 처리\n",
    "    5. 내장 함수\n",
    "    6. 외장 함수"
   ]
  },
  {
   "cell_type": "markdown",
   "metadata": {},
   "source": [
    "## 1. 클래스\n",
    "### 클래스는 왜 필요한가?\n",
    "클래스는 함수나 자료형처럼 프로그램 작성을 위해 꼭 필요한 요소는 아니다.<br>\n",
    "하지만 프로그램을 작성할 때 클래스를 적재적소에 사용하면 프로그래머가 얻을 수 있는 이익은 상당하다.<br>\n",
    "예제를 통해 알아보자.\n",
    "\n",
    "<img src=https://wikidocs.net/images/page/28/calc.png />\n",
    "\n",
    "    계산기는 이전에 계산한 결괏값을 기억하고 있어야 한다.\n",
    "    \n",
    "이러한 내용을 우리가 앞에서 익힌 함수를 통해 구현해 보자. "
   ]
  },
  {
   "cell_type": "code",
   "execution_count": 1,
   "metadata": {},
   "outputs": [
    {
     "name": "stdout",
     "output_type": "stream",
     "text": [
      "3\n",
      "7\n"
     ]
    }
   ],
   "source": [
    "result = 0\n",
    "def add(num):\n",
    "    global result\n",
    "    result += num\n",
    "    return result\n",
    "\n",
    "print(add(3))\n",
    "print(add(4))"
   ]
  },
  {
   "cell_type": "code",
   "execution_count": null,
   "metadata": {},
   "outputs": [],
   "source": []
  }
 ],
 "metadata": {
  "kernelspec": {
   "display_name": "kyle",
   "language": "python",
   "name": "kyle"
  },
  "language_info": {
   "codemirror_mode": {
    "name": "ipython",
    "version": 3
   },
   "file_extension": ".py",
   "mimetype": "text/x-python",
   "name": "python",
   "nbconvert_exporter": "python",
   "pygments_lexer": "ipython3",
   "version": "3.6.5"
  }
 },
 "nbformat": 4,
 "nbformat_minor": 4
}
